{
  "cells": [
    {
      "cell_type": "markdown",
      "metadata": {
        "id": "LBGty4O_0ukJ"
      },
      "source": [
        "**Preparing Environment**"
      ]
    },
    {
      "cell_type": "code",
      "execution_count": null,
      "metadata": {
        "id": "lnyLTyUt0ukN"
      },
      "outputs": [],
      "source": [
        "import os\n",
        "import time\n",
        "from PIL import Image\n",
        "import numpy as np\n",
        "import tensorflow as tf\n",
        "import tensorflow_hub as hub\n",
        "import matplotlib.pyplot as plt\n",
        "os.environ[\"TFHUB_DOWNLOAD_PROGRESS\"] = \"True\"\n"
      ]
    },
    {
      "cell_type": "code",
      "execution_count": null,
      "metadata": {
        "id": "DXot2kru0ukh"
      },
      "outputs": [],
      "source": [
        "# Declaring Constants\n",
        "IMAGE_PATH = \"/home/gregrevill/code/GregRevFr/photopocalypse/raw_data/input_images/champboy/boy_champagne_resized_128x128.jpg\"\n",
        "SAVED_MODEL_PATH = \"https://tfhub.dev/captain-pool/esrgan-tf2/1\"\n"
      ]
    },
    {
      "cell_type": "markdown",
      "metadata": {
        "id": "KF_tHde-p3rn"
      },
      "source": [
        "**Defining Helper Functions**"
      ]
    },
    {
      "cell_type": "code",
      "execution_count": null,
      "metadata": {
        "id": "IslbQmTj0ukz"
      },
      "outputs": [],
      "source": [
        "def preprocess_image(image_path):\n",
        "  \"\"\" Loads image from path and preprocesses to make it model ready\n",
        "      Args:\n",
        "        image_path: Path to the image file\n",
        "  \"\"\"\n",
        "  hr_image = tf.image.decode_image(tf.io.read_file(image_path))\n",
        "  # If PNG, remove the alpha channel. The model only supports\n",
        "  # images with 3 color channels.\n",
        "  if hr_image.shape[-1] == 4:\n",
        "    hr_image = hr_image[...,:-1]\n",
        "  hr_size = (tf.convert_to_tensor(hr_image.shape[:-1]) // 4) * 4\n",
        "  hr_image = tf.image.crop_to_bounding_box(hr_image, 0, 0, hr_size[0], hr_size[1])\n",
        "  hr_image = tf.cast(hr_image, tf.float32)\n",
        "  return tf.expand_dims(hr_image, 0)\n"
      ]
    },
    {
      "cell_type": "code",
      "execution_count": null,
      "metadata": {},
      "outputs": [],
      "source": [
        "def save_image(image, filename):\n",
        "  \"\"\"\n",
        "    Saves unscaled Tensor Images.\n",
        "    Args:\n",
        "      image: 3D image tensor. [height, width, channels]\n",
        "      filename: Name of the file to save.\n",
        "  \"\"\"\n",
        "  if not isinstance(image, Image.Image):\n",
        "    image = tf.clip_by_value(image, 0, 255)\n",
        "    image = Image.fromarray(tf.cast(image, tf.uint8).numpy())\n",
        "  image.save(\"%s.jpg\" % filename)\n",
        "  print(\"Saved as %s.jpg\" % filename)\n"
      ]
    },
    {
      "cell_type": "code",
      "execution_count": null,
      "metadata": {
        "id": "uh1E2rBpnWxV"
      },
      "outputs": [],
      "source": [
        "%matplotlib inline\n",
        "def plot_image(image, title=\"\"):\n",
        "  \"\"\"\n",
        "    Plots images from image tensors.\n",
        "    Args:\n",
        "      image: 3D image tensor. [height, width, channels].\n",
        "      title: Title to display in the plot.\n",
        "  \"\"\"\n",
        "  image = np.asarray(image)\n",
        "  image = tf.clip_by_value(image, 0, 255)\n",
        "  image = Image.fromarray(tf.cast(image, tf.uint8).numpy())\n",
        "  plt.imshow(image)\n",
        "  plt.axis(\"off\")\n",
        "  plt.title(title)\n"
      ]
    },
    {
      "cell_type": "markdown",
      "metadata": {
        "id": "ycrCTvmlqBMD"
      },
      "source": [
        "#### Performing Super Resolution of images loaded from path"
      ]
    },
    {
      "cell_type": "code",
      "execution_count": null,
      "metadata": {
        "id": "L7XpMk8Y0uk7"
      },
      "outputs": [],
      "source": [
        "hr_image = preprocess_image(IMAGE_PATH)\n"
      ]
    },
    {
      "cell_type": "code",
      "execution_count": null,
      "metadata": {
        "id": "ouwEyKLA0ulO"
      },
      "outputs": [],
      "source": [
        "model = hub.load(SAVED_MODEL_PATH)\n"
      ]
    },
    {
      "cell_type": "code",
      "execution_count": null,
      "metadata": {},
      "outputs": [],
      "source": [
        "# show original image\n",
        "plot_image(tf.squeeze(hr_image), title=\"Original\")\n"
      ]
    },
    {
      "cell_type": "code",
      "execution_count": null,
      "metadata": {},
      "outputs": [],
      "source": [
        "# generate super resolution image and show it\n",
        "start = time.time()\n",
        "fake_image = model(hr_image)\n",
        "fake_image = tf.squeeze(fake_image)\n",
        "run_time = time.time() - start\n",
        "print(\"Time Taken: %f\" % run_time)\n",
        "plot_image(tf.squeeze(fake_image), title=\"Super Resolution\")\n"
      ]
    },
    {
      "cell_type": "code",
      "execution_count": null,
      "metadata": {},
      "outputs": [],
      "source": [
        "'''\n",
        "# save super resolution image with file name including runtime\n",
        "\n",
        "#path to save super resolution image\n",
        "path = '/home/gregrevill/code/GregRevFr/photopocalypse/raw_data/output_images'\n",
        "\n",
        "#file name to save super resolution image with : original file name + runtime\n",
        "filename = os.path.basename(IMAGE_PATH).split(\".\")[0]\n",
        "filename = filename + \"_\" + str(round(run_time,2)) + \"secs.jg\"\n",
        "filepath = os.path.join(path, filename)\n",
        "\n",
        "save_image(tf.squeeze(fake_image), filename=filepath)\n",
        "'''\n"
      ]
    },
    {
      "cell_type": "code",
      "execution_count": null,
      "metadata": {},
      "outputs": [],
      "source": [
        "'''\n",
        "import os\n",
        "import tensorflow as tf\n",
        "\n",
        "# Function definitions for preprocess_image, model, save_image, etc. should be here\n",
        "\n",
        "# run the code on a folder of images\n",
        "folder_path = \"/home/gregrevill/code/GregRevFr/photopocalypse/raw_data/input_images/champboy\"\n",
        "\n",
        "# get all file names in the folder\n",
        "filenames = os.listdir(folder_path)\n",
        "\n",
        "# get full paths to all files\n",
        "filepaths = [os.path.join(folder_path, f) for f in filenames]\n",
        "\n",
        "# sort the filepaths by file size (smallest first)\n",
        "filepaths.sort(key=lambda x: os.path.getsize(x))\n",
        "\n",
        "# save super resolution images in a folder named \"super_resolution\"\n",
        "output_folder_path = \"/home/gregrevill/code/GregRevFr/photopocalypse/raw_data/input_images/champboy_superresolution\"\n",
        "\n",
        "# process and save images\n",
        "for filepath in filepaths:\n",
        "    start = time.time()\n",
        "    hr_image = preprocess_image(filepath)\n",
        "    fake_image = model(hr_image)\n",
        "    fake_image = tf.squeeze(fake_image)\n",
        "    filename = os.path.basename(filepath).split(\".\")[0]\n",
        "    run_time = time.time() - start\n",
        "    filename = filename + \"_\" + str(round(run_time, 2)) + \"secs\"\n",
        "    output_filepath = os.path.join(output_folder_path, filename)\n",
        "    save_image(fake_image, filename=output_filepath)\n"
      ]
    },
    {
      "cell_type": "code",
      "execution_count": null,
      "metadata": {},
      "outputs": [],
      "source": [
        "#install keras\n",
        "from tensorflow import keras\n",
        "from tensorflow.keras import layers\n",
        "\n",
        "# Create a model instance\n",
        "SAVED_MODEL_PATH = \"https://tfhub.dev/captain-pool/esrgan-tf2/1\"\n",
        "model = hub.load(SAVED_MODEL_PATH)\n",
        "\n",
        "#save model as .h5 keras model\n",
        "model.save(\"esrgan.h5\")\n"
      ]
    }
  ],
  "metadata": {
    "colab": {
      "collapsed_sections": [],
      "name": "image_enhancing.ipynb",
      "toc_visible": true
    },
    "kernelspec": {
      "display_name": "Python 3",
      "name": "python3"
    },
    "language_info": {
      "codemirror_mode": {
        "name": "ipython",
        "version": 3
      },
      "file_extension": ".py",
      "mimetype": "text/x-python",
      "name": "python",
      "nbconvert_exporter": "python",
      "pygments_lexer": "ipython3",
      "version": "3.10.6"
    }
  },
  "nbformat": 4,
  "nbformat_minor": 0
}
